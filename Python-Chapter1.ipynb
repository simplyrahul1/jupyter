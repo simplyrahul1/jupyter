{
 "cells": [
  {
   "cell_type": "markdown",
   "metadata": {},
   "source": [
    "# Welcome to Python Cheat Sheet Learning"
   ]
  },
  {
   "cell_type": "raw",
   "metadata": {},
   "source": [
    "#My First Python Hello World Program"
   ]
  },
  {
   "cell_type": "code",
   "execution_count": 1,
   "metadata": {},
   "outputs": [
    {
     "name": "stdout",
     "output_type": "stream",
     "text": [
      "Hello World!\n"
     ]
    }
   ],
   "source": [
    "print (\"Hello World!\")"
   ]
  },
  {
   "cell_type": "raw",
   "metadata": {},
   "source": [
    "#My First Variable in Python. I can assign values to Variable"
   ]
  },
  {
   "cell_type": "code",
   "execution_count": null,
   "metadata": {},
   "outputs": [],
   "source": [
    "msg = \"hello World!\"\n",
    "print (msg)"
   ]
  },
  {
   "cell_type": "raw",
   "metadata": {},
   "source": [
    "# Concatenation of Strings to a Variable full_name"
   ]
  },
  {
   "cell_type": "code",
   "execution_count": 4,
   "metadata": {},
   "outputs": [
    {
     "name": "stdout",
     "output_type": "stream",
     "text": [
      "albert einstein\n"
     ]
    }
   ],
   "source": [
    "first_name = 'albert'\n",
    "last_name = 'einstein'\n",
    "full_name = first_name + ' ' + last_name\n",
    "print (full_name)"
   ]
  },
  {
   "cell_type": "raw",
   "metadata": {},
   "source": [
    "# Define a new List ; Get first & last member of the list ; Print "
   ]
  },
  {
   "cell_type": "code",
   "execution_count": 14,
   "metadata": {
    "scrolled": true
   },
   "outputs": [
    {
     "name": "stdout",
     "output_type": "stream",
     "text": [
      "Print first & last member of the list\n",
      "trek giant\n",
      "\n",
      "Print entire list\n",
      "trek\n",
      "redlne\n",
      "giant\n"
     ]
    }
   ],
   "source": [
    "bikes = ['trek', 'redlne', 'giant']\n",
    "\n",
    "first_bike = bikes[0]\n",
    "last_bike = bikes[-1]\n",
    "\n",
    "print (\"Print first & last member of the list\")\n",
    "print (first_bike, last_bike)\n",
    "\n",
    "print (\"\\nPrint entire list\")\n",
    "for bike in bikes :\n",
    "    print(bike)"
   ]
  },
  {
   "cell_type": "raw",
   "metadata": {},
   "source": [
    "# Append to the list ; Print entire list"
   ]
  },
  {
   "cell_type": "code",
   "execution_count": 18,
   "metadata": {},
   "outputs": [
    {
     "name": "stdout",
     "output_type": "stream",
     "text": [
      "\n",
      "Print entire list\n",
      "trek\n",
      "redlne\n",
      "giant\n",
      "Yamaha\n",
      "Suzuki\n",
      "Pulsar\n"
     ]
    }
   ],
   "source": [
    "bikes = ['trek', 'redlne', 'giant']\n",
    "bikes.append('Yamaha')\n",
    "bikes.append('Suzuki')\n",
    "bikes.append('Pulsar')\n",
    "\n",
    "print (\"\\nPrint entire list\")\n",
    "for bike in bikes :\n",
    "    print(bike)"
   ]
  },
  {
   "cell_type": "raw",
   "metadata": {},
   "source": [
    "# Numerical List"
   ]
  },
  {
   "cell_type": "code",
   "execution_count": 19,
   "metadata": {},
   "outputs": [
    {
     "name": "stdout",
     "output_type": "stream",
     "text": [
      "[1, 4, 9, 16, 25, 36, 49, 64, 81, 100]\n"
     ]
    }
   ],
   "source": [
    "squares = []\n",
    "for x in range(1, 11):\n",
    "    squares.append(x**2)\n",
    "    \n",
    "print(squares)"
   ]
  },
  {
   "cell_type": "raw",
   "metadata": {},
   "source": [
    "# List Comprehension"
   ]
  },
  {
   "cell_type": "code",
   "execution_count": 21,
   "metadata": {},
   "outputs": [
    {
     "name": "stdout",
     "output_type": "stream",
     "text": [
      "[1, 4, 9, 16, 25, 36, 49, 64, 81, 100, 121]\n"
     ]
    }
   ],
   "source": [
    "mysquares = [x**2 for x in range(1,12)]\n",
    "print (mysquares)"
   ]
  },
  {
   "cell_type": "raw",
   "metadata": {},
   "source": [
    "# Slicing a List"
   ]
  },
  {
   "cell_type": "code",
   "execution_count": 39,
   "metadata": {},
   "outputs": [
    {
     "name": "stdout",
     "output_type": "stream",
     "text": [
      "first_finisher ['Trek'] \n",
      "last_finisher ['Pulsar'] \n",
      "first_two finisher ['Trek', 'Redline'] \n",
      "last_two finisher ['Suzuki', 'Pulsar']\n"
     ]
    }
   ],
   "source": [
    "bike_finishers = ['Trek', 'Redline', 'Giant', 'Yamaha','Suzuki','Pulsar']\n",
    "\n",
    "first_finisher = bike_finishers[:1]\n",
    "last_finisher = bike_finishers[-1:]\n",
    "\n",
    "first_two = bike_finishers[:2]\n",
    "last_two = bike_finishers[-2:]\n",
    "\n",
    "\n",
    "print (\"first_finisher\", first_finisher,\"\\nlast_finisher\", last_finisher,\n",
    "       \"\\nfirst_two finisher\",first_two,\"\\nlast_two finisher\",last_two)"
   ]
  },
  {
   "cell_type": "raw",
   "metadata": {},
   "source": [
    "# Copy a list"
   ]
  },
  {
   "cell_type": "code",
   "execution_count": 45,
   "metadata": {},
   "outputs": [
    {
     "name": "stdout",
     "output_type": "stream",
     "text": [
      "['Trek', 'Redline', 'Giant', 'Yamaha', 'Suzuki', 'Pulsar']\n"
     ]
    }
   ],
   "source": [
    "bike_final_list = bike_finishers\n",
    "\n",
    "print (bike_final_list)"
   ]
  },
  {
   "cell_type": "code",
   "execution_count": null,
   "metadata": {},
   "outputs": [],
   "source": []
  }
 ],
 "metadata": {
  "kernelspec": {
   "display_name": "Python 3",
   "language": "python",
   "name": "python3"
  },
  "language_info": {
   "codemirror_mode": {
    "name": "ipython",
    "version": 3
   },
   "file_extension": ".py",
   "mimetype": "text/x-python",
   "name": "python",
   "nbconvert_exporter": "python",
   "pygments_lexer": "ipython3",
   "version": "3.7.1"
  }
 },
 "nbformat": 4,
 "nbformat_minor": 2
}
